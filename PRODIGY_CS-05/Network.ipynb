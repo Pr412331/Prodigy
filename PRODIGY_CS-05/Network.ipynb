{
 "cells": [
  {
   "cell_type": "code",
   "execution_count": null,
   "metadata": {},
   "outputs": [],
   "source": [
    "import pyshark\n",
    "\n",
    "def packet_handler(packet):\n",
    "    try:\n",
    "        src_ip = packet.ip.src\n",
    "        dst_ip = packet.ip.dst\n",
    "        proto = packet.transport_layer\n",
    "        print(f\"Source IP: {src_ip}, Destination IP: {dst_ip}, Protocol: {protocols}\")\n",
    "\n",
    "        if proto == 'TCP':\n",
    "            print(\"TCP Payload:\", packet.tcp.payload)\n",
    "        elif proto == 'UDP':\n",
    "            print(\"UDP Payload:\", packet.udp.payload)\n",
    "    except AttributeError:\n",
    "        pass  # Not an IP packet\n",
    "\n",
    "def main():\n",
    "    capture = pyshark.LiveCapture(interface='eth0', bpf_filter='ip')\n",
    "    print(\"Packet Sniffer started. Press Ctrl+C to stop.\")\n",
    "    capture.apply_on_packets(packet_handler)\n",
    "\n",
    "if __name__ == \"__main__\":\n",
    "    main()\n"
   ]
  }
 ],
 "metadata": {
  "kernelspec": {
   "display_name": "Python 3 (ipykernel)",
   "language": "python",
   "name": "python3"
  },
  "language_info": {
   "codemirror_mode": {
    "name": "ipython",
    "version": 3
   },
   "file_extension": ".py",
   "mimetype": "text/x-python",
   "name": "python",
   "nbconvert_exporter": "python",
   "pygments_lexer": "ipython3",
   "version": "3.12.0"
  }
 },
 "nbformat": 4,
 "nbformat_minor": 4
}
