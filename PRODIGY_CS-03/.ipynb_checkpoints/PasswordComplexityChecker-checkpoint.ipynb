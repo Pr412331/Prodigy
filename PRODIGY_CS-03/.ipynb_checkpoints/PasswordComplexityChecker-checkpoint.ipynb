{
 "cells": [
  {
   "cell_type": "code",
   "execution_count": 5,
   "id": "07c77842-ee63-478d-b7d5-dd3c3bdd5a7f",
   "metadata": {},
   "outputs": [
    {
     "name": "stdin",
     "output_type": "stream",
     "text": [
      "Enter the password:  Prajwal!@#123\n"
     ]
    },
    {
     "name": "stdout",
     "output_type": "stream",
     "text": [
      "Password strength is Strong. Hard to crack it.\n"
     ]
    }
   ],
   "source": [
    "def isStrong(password):\n",
    "    if len(password) < 12:\n",
    "        return \"Password strength is week. Can be cracked easily.\"\n",
    "        \n",
    "    oneUpper = any(char.isupper() for char in password)\n",
    "    oneLower = any(char.islower() for char in password)\n",
    "    oneDigit = any(char.isdigit() for char in password)\n",
    "    special = \"!@#$%^&*()-_+=<>,.?/:;{}[]|~\"\n",
    "    oneSpecial = any(char in special for char in password)\n",
    "    \n",
    "    if (oneUpper and oneLower and oneDigit and oneSpecial):\n",
    "        return \"Password strength is Strong. Hard to crack it.\"\n",
    "        \n",
    "    elif (oneUpper or oneLower or oneDigit or oneSpecial):\n",
    "        return \"Password strength is Medium. Can be cracked.\"\n",
    "        \n",
    "    else:\n",
    "        return \"Password strength is week. Can be cracked easily.\"\n",
    "\n",
    "\n",
    "def main():\n",
    "    password = input(\"Enter the password: \")\n",
    "    print(isStrong(password))\n",
    "\n",
    "if __name__ == \"__main__\":\n",
    "    main()"
   ]
  },
  {
   "cell_type": "code",
   "execution_count": null,
   "id": "c5c9c1bd-bc05-40dc-9252-8eb157e7cd88",
   "metadata": {},
   "outputs": [],
   "source": []
  }
 ],
 "metadata": {
  "kernelspec": {
   "display_name": "Python 3 (ipykernel)",
   "language": "python",
   "name": "python3"
  },
  "language_info": {
   "codemirror_mode": {
    "name": "ipython",
    "version": 3
   },
   "file_extension": ".py",
   "mimetype": "text/x-python",
   "name": "python",
   "nbconvert_exporter": "python",
   "pygments_lexer": "ipython3",
   "version": "3.12.0"
  }
 },
 "nbformat": 4,
 "nbformat_minor": 5
}
