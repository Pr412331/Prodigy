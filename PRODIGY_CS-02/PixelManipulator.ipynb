{
 "cells": [
  {
   "cell_type": "code",
   "execution_count": 1,
   "id": "a24e7fed-fc58-4521-8ccb-d02828dae615",
   "metadata": {},
   "outputs": [],
   "source": [
    "from colorama import Fore"
   ]
  },
  {
   "cell_type": "code",
   "execution_count": 2,
   "id": "cd7c12a5-882c-47b0-91cc-c8c87c48e57a",
   "metadata": {},
   "outputs": [
    {
     "name": "stdin",
     "output_type": "stream",
     "text": [
      "Enter path of Image :  1.png\n",
      "Enter Key for encryption of Image :  12\n"
     ]
    },
    {
     "name": "stdout",
     "output_type": "stream",
     "text": [
      "The path of file :  1.png\n",
      "Key for encryption :  12\n",
      "\n",
      "Pixel Manipulator for Image Encryption/Decryption\n",
      "\n",
      "1. Encryption\n",
      "\n",
      "2. Decryption\n"
     ]
    },
    {
     "name": "stdin",
     "output_type": "stream",
     "text": [
      "Enter the choice:  1\n"
     ]
    },
    {
     "name": "stdout",
     "output_type": "stream",
     "text": [
      "\u001b[32mEncryption Done...\n",
      "\u001b[32mExiting...\n"
     ]
    }
   ],
   "source": [
    "def encrypt_image(path, key):\n",
    "    try:\n",
    "        fin = open(path, 'rb')\n",
    "        image = fin.read()\n",
    "        fin.close()\n",
    "\n",
    "        image = bytearray(image)\n",
    "        for index, values in enumerate(image):\n",
    "            image[index] = values ^ key\n",
    "\n",
    "        fin = open(path, 'wb')\n",
    "        fin.write(image)\n",
    "        fin.close()\n",
    "\n",
    "        print(Fore.GREEN + \"Encryption Done...\")\n",
    "        print(Fore.GREEN + \"Exiting...\")\n",
    "        \n",
    "    except Exception:\n",
    "        print(Fore.RED + \"Error caught : \", Exception.__name__)\n",
    "        print(Fore.RED + \"Exiting...\")\n",
    "        \n",
    "\n",
    "def decrypt_image(path, key):\n",
    "    try:\n",
    "        fin = open(path, 'rb')\n",
    "        image = fin.read()\n",
    "        image = bytearray(image)\n",
    "        \n",
    "        for index, value in enumerate(image):\n",
    "            image[index] = value ^ key\n",
    "            \n",
    "        fin = open(path, 'wb')\n",
    "        fin.write(image)\n",
    "        fin.close()\n",
    "        \n",
    "        print(Fore.GREEN + \"Decryption Done...\")\n",
    "        print(Fore.GREEN + \"Exiting...\")\n",
    "        \n",
    "    except Exception:\n",
    "        print(Fore.RED + \"Error caught : \", Exception.__name__)\n",
    "        print(Fore.RED + \"Exiting...\")\n",
    "        \n",
    "\n",
    "filePath = input('Enter path of Image : ')\n",
    "key = int(input('Enter Key for encryption of Image : '))\n",
    "print('The path of file : ', filePath)\n",
    "print('Key for encryption : ', key)\n",
    "\n",
    "while True:\n",
    "    print(\"\\nPixel Manipulator for Image Encryption/Decryption\")\n",
    "    print(\"\\n1. Encryption\")\n",
    "    print(\"\\n2. Decryption\")\n",
    "    choice = int(input(\"Enter the choice: \"))\n",
    "    \n",
    "    if choice == 1:\n",
    "        encrypt_image(filePath, key)\n",
    "        break\n",
    "        \n",
    "    elif choice == 2:\n",
    "        decrypt_image(filePath, key)\n",
    "        break\n",
    "        \n",
    "    else:\n",
    "        print(Fore.YELLOW + \"\\nInvalid option.\")\n",
    "        print(Fore.RED + \"Exiting...\")\n",
    "        break"
   ]
  },
  {
   "cell_type": "code",
   "execution_count": null,
   "id": "c9b1f848-c724-406d-bd1d-d9d9bc87da50",
   "metadata": {},
   "outputs": [],
   "source": []
  }
 ],
 "metadata": {
  "kernelspec": {
   "display_name": "Python 3 (ipykernel)",
   "language": "python",
   "name": "python3"
  },
  "language_info": {
   "codemirror_mode": {
    "name": "ipython",
    "version": 3
   },
   "file_extension": ".py",
   "mimetype": "text/x-python",
   "name": "python",
   "nbconvert_exporter": "python",
   "pygments_lexer": "ipython3",
   "version": "3.12.0"
  }
 },
 "nbformat": 4,
 "nbformat_minor": 5
}
