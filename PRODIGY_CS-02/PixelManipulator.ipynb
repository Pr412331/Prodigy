{
 "cells": [
  {
   "cell_type": "code",
   "execution_count": 21,
   "id": "b942d839",
   "metadata": {},
   "outputs": [
    {
     "name": "stdout",
     "output_type": "stream",
     "text": [
      "The path of file :  1.jpeg\n",
      "Key for encryption :  100\n",
      "\n",
      "Pixel Manipulator for Image Encryption/Decryption\n",
      "\n",
      "1. Encryption\n",
      "\n",
      "2. Decryption\n",
      "\u001b[32mDecryption Done...\n",
      "\u001b[32mExiting...\n"
     ]
    }
   ],
   "source": [
    "from colorama import Fore\n",
    "\n",
    "def encrypt_image(path, key):\n",
    "    try:\n",
    "        fin = open(path, 'rb')\n",
    "        image = fin.read()\n",
    "        fin.close()\n",
    "\n",
    "        image = bytearray(image)\n",
    "        for index, values in enumerate(image):\n",
    "            image[index] = values ^ key\n",
    "\n",
    "        fin = open(path, 'wb')\n",
    "        fin.write(image)\n",
    "        fin.close()\n",
    "\n",
    "        print(Fore.GREEN + \"Encryption Done...\")\n",
    "        print(Fore.GREEN + \"Exiting...\")\n",
    "        \n",
    "    except Exception:\n",
    "        print(Fore.RED + \"Error caught : \", Exception.__name__)\n",
    "        print(Fore.RED + \"Exiting...\")\n",
    "        \n",
    "\n",
    "def decrypt_image(path, key):\n",
    "    try:\n",
    "        fin = open(path, 'rb')\n",
    "        image = fin.read()\n",
    "        image = bytearray(image)\n",
    "        \n",
    "        for index, value in enumerate(image):\n",
    "            image[index] = value ^ key\n",
    "            \n",
    "        fin = open(path, 'wb')\n",
    "        fin.write(image)\n",
    "        fin.close()\n",
    "        \n",
    "        print(Fore.GREEN + \"Decryption Done...\")\n",
    "        print(Fore.GREEN + \"Exiting...\")\n",
    "        \n",
    "    except Exception:\n",
    "        print(Fore.RED + \"Error caught : \", Exception.__name__)\n",
    "        print(Fore.RED + \"Exiting...\")\n",
    "        \n",
    "\n",
    "filePath = input('Enter path of Image : ')\n",
    "key = int(input('Enter Key for encryption of Image : '))\n",
    "print('The path of file : ', filePath)\n",
    "print('Key for encryption : ', key)\n",
    "\n",
    "while True:\n",
    "    print(\"\\nPixel Manipulator for Image Encryption/Decryption\")\n",
    "    print(\"\\n1. Encryption\")\n",
    "    print(\"\\n2. Decryption\")\n",
    "    choice = int(input(\"Enter the choice: \"))\n",
    "    \n",
    "    if choice == 1:\n",
    "        encrypt_image(filePath, key)\n",
    "        break\n",
    "        \n",
    "    elif choice == 2:\n",
    "        decrypt_image(filePath, key)\n",
    "        break\n",
    "        \n",
    "    else:\n",
    "        print(Fore.YELLOW + \"\\nInvalid option.\")\n",
    "        print(Fore.RED + \"Exiting...\")\n",
    "        break"
   ]
  },
  {
   "cell_type": "code",
   "execution_count": null,
   "id": "e17e1282",
   "metadata": {},
   "outputs": [],
   "source": []
  }
 ],
 "metadata": {
  "kernelspec": {
   "display_name": "Python 3 (ipykernel)",
   "language": "python",
   "name": "python3"
  },
  "language_info": {
   "codemirror_mode": {
    "name": "ipython",
    "version": 3
   },
   "file_extension": ".py",
   "mimetype": "text/x-python",
   "name": "python",
   "nbconvert_exporter": "python",
   "pygments_lexer": "ipython3",
   "version": "3.12.0"
  }
 },
 "nbformat": 4,
 "nbformat_minor": 5
}
