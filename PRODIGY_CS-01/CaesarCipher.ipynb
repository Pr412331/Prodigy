{
 "cells": [
  {
   "cell_type": "markdown",
   "id": "781c487c-656e-4ef0-90d4-6a3eaad123c5",
   "metadata": {},
   "source": [
    "# Caesar Cipher"
   ]
  },
  {
   "cell_type": "code",
   "execution_count": 15,
   "id": "bdf12cdd-2c30-4fbf-802a-6bf9522941d5",
   "metadata": {},
   "outputs": [
    {
     "name": "stdin",
     "output_type": "stream",
     "text": [
      "Enter the string:  Prajwal\n",
      "Enter the shifting number:  100\n"
     ]
    },
    {
     "name": "stdout",
     "output_type": "stream",
     "text": [
      "\n",
      "\n",
      "Text : Prajwal\n",
      "Shift : 100\n",
      "Cipher: fTCLYCN\n",
      "Original: Prajwal\n"
     ]
    }
   ],
   "source": [
    "def CaesarEncrypt(text, shift):\n",
    "    enc = \"\"\n",
    "    for char in text:\n",
    "        if char.isalpha():\n",
    "            if char.isupper():\n",
    "                enc += chr((ord(char) - 97 + shift) % 26 + 97)\n",
    "            else:\n",
    "                enc += chr((ord(char) - 65 + shift) % 26 + 65)\n",
    "        else:\n",
    "            enc += char\n",
    "    return enc\n",
    "\n",
    "def CaesarDecrypt(encrypted_text, shift):\n",
    "    dec = \"\"\n",
    "    for char in encrypted_text:\n",
    "        if char.isalpha():\n",
    "            if char.isupper():\n",
    "                dec += chr((ord(char) - 97 - shift) % 26 + 97)\n",
    "            else:\n",
    "                dec += chr((ord(char) - 65 - shift) % 26 + 65)\n",
    "        else:\n",
    "            dec += char\n",
    "    return dec\n",
    "\n",
    "text = input(\"Enter the string: \")\n",
    "s = eval(input(\"Enter the shifting number: \"))\n",
    "print(\"\\n\")\n",
    "print (\"Text : \" + text)\n",
    "print (\"Shift : \" + str(s))\n",
    "print (\"Cipher: \" + CaesarEncrypt(text,s))\n",
    "\n",
    "cipher = CaesarEncrypt(text, s)\n",
    "print (\"Original: \" + CaesarDecrypt(cipher,s))"
   ]
  },
  {
   "cell_type": "code",
   "execution_count": null,
   "id": "abea146e-d900-44d4-aecb-b89936d7032e",
   "metadata": {},
   "outputs": [],
   "source": []
  }
 ],
 "metadata": {
  "kernelspec": {
   "display_name": "Python 3 (ipykernel)",
   "language": "python",
   "name": "python3"
  },
  "language_info": {
   "codemirror_mode": {
    "name": "ipython",
    "version": 3
   },
   "file_extension": ".py",
   "mimetype": "text/x-python",
   "name": "python",
   "nbconvert_exporter": "python",
   "pygments_lexer": "ipython3",
   "version": "3.12.0"
  }
 },
 "nbformat": 4,
 "nbformat_minor": 5
}
